{
 "cells": [
  {
   "cell_type": "markdown",
   "metadata": {},
   "source": [
    "# 1.\tCalculate Area of a Circle\n",
    "Write a Python program which accepts the radius of a circle from the user and compute the area.\n",
    "\n",
    "Program Console Sample Output 1:\n",
    "\n",
    "Input Radius: 0.5\n",
    "\n",
    "Area of Circle with radius 0.5 is 0.7853981634\n"
   ]
  },
  {
   "cell_type": "code",
   "execution_count": 1,
   "metadata": {},
   "outputs": [
    {
     "name": "stdout",
     "output_type": "stream",
     "text": [
      "Input Radius: 0.5\n"
     ]
    }
   ],
   "source": [
    "import math\n",
    "pi=math.pi\n",
    "radius=float(input(\"Input Radius: \"))"
   ]
  },
  {
   "cell_type": "code",
   "execution_count": 2,
   "metadata": {},
   "outputs": [],
   "source": [
    "area=round(pi*math.pow(radius,2),10)"
   ]
  },
  {
   "cell_type": "code",
   "execution_count": 3,
   "metadata": {},
   "outputs": [
    {
     "name": "stdout",
     "output_type": "stream",
     "text": [
      "Area of Circle with radius 0.5 is 0.7853981634\n"
     ]
    }
   ],
   "source": [
    "print(f\"Area of Circle with radius 0.5 is {area}\")"
   ]
  },
  {
   "cell_type": "markdown",
   "metadata": {},
   "source": [
    "# 2.\tCheck Number either positive, negative or zero\n",
    "Write a Python program to check if a number is positive, negative or zero\n",
    "\n",
    "Program Console Sample Output 1:\n",
    "\n",
    "Enter Number: -1\n",
    "\n",
    "Negative Number Entered\n",
    "\n",
    "Program Console Sample Output 2:\n",
    "\n",
    "Integer: 3\n",
    "\n",
    "Positive Number Entered\n",
    "\n",
    "Program Console Sample Output 3:\n",
    "\n",
    "Integer: 0\n",
    "\n",
    "Zero Entered\n"
   ]
  },
  {
   "cell_type": "code",
   "execution_count": 4,
   "metadata": {},
   "outputs": [
    {
     "name": "stdout",
     "output_type": "stream",
     "text": [
      "Enter a num: -1\n",
      "Negative Number Entered\n"
     ]
    }
   ],
   "source": [
    "num1=int(input(\"Enter a num: \"))\n",
    "if num1<0:\n",
    "    print(\"Negative Number Entered\")"
   ]
  },
  {
   "cell_type": "code",
   "execution_count": 6,
   "metadata": {},
   "outputs": [
    {
     "name": "stdout",
     "output_type": "stream",
     "text": [
      "Enter a num: 3\n",
      "Positive Number Entered\n"
     ]
    }
   ],
   "source": [
    "num2=int(input(\"Enter a num: \"))\n",
    "if num2>0:\n",
    "    print(\"Positive Number Entered\")"
   ]
  },
  {
   "cell_type": "code",
   "execution_count": 7,
   "metadata": {},
   "outputs": [
    {
     "name": "stdout",
     "output_type": "stream",
     "text": [
      "Enter a num: 0\n",
      "Zero Entered\n"
     ]
    }
   ],
   "source": [
    "num3=int(input(\"Enter a num: \"))\n",
    "if num3==0:\n",
    "    print(\"Zero Entered\")"
   ]
  },
  {
   "cell_type": "markdown",
   "metadata": {},
   "source": [
    "# 3.\tDivisibility Check of two numbers\n",
    "Write a Python program to check whether a number is completely divisible by another number. Accept two integer values form the user\n",
    "\n",
    "Program Console Sample Output 1:\n",
    "    \n",
    "Enter numerator: 4\n",
    "    \n",
    "Enter Denominator: 2\n",
    "    \n",
    "Number 4 is Completely divisible by 2 \n",
    "\n",
    "Program Console Sample Output 2:\n",
    "    \n",
    "Enter numerator: 7\n",
    "    \n",
    "Enter Denominator: 4\n",
    "    \n",
    "Number 7 is not Completely divisible by 4\n"
   ]
  },
  {
   "cell_type": "code",
   "execution_count": 9,
   "metadata": {},
   "outputs": [
    {
     "name": "stdout",
     "output_type": "stream",
     "text": [
      "Enter numerator: 4\n",
      "Enter denominator: 2\n",
      "Number 4 is Completely divisible by 2\n"
     ]
    }
   ],
   "source": [
    "nume=int(input(\"Enter numerator: \"))\n",
    "deno=int(input(\"Enter denominator: \"))\n",
    "if nume%deno==0:\n",
    "    print(f\"Number {nume} is Completely divisible by {deno}\")\n",
    "else:\n",
    "    print(f\"Number {nume} is not Completely divisible by {deno}\")"
   ]
  },
  {
   "cell_type": "code",
   "execution_count": 10,
   "metadata": {},
   "outputs": [
    {
     "name": "stdout",
     "output_type": "stream",
     "text": [
      "Enter numerator: 7\n",
      "Enter denominator: 4\n",
      "Number 7 is not Completely divisible by 4\n"
     ]
    }
   ],
   "source": [
    "nume=int(input(\"Enter numerator: \"))\n",
    "deno=int(input(\"Enter denominator: \"))\n",
    "if nume%deno==0:\n",
    "    print(f\"Number {nume} is Completely divisible by {deno}\")\n",
    "else:\n",
    "    print(f\"Number {nume} is not Completely divisible by {deno}\")"
   ]
  },
  {
   "cell_type": "markdown",
   "metadata": {},
   "source": [
    "# 4.\tDays Calculator\n",
    "Write a Python program to calculate number of days between two dates\n",
    "\n",
    "Program Console Output:\n",
    "    \n",
    "Enter a date in (dd/mm/yy) format: 12/12/2018\n",
    "    \n",
    "Enter a date in (dd/mm/yy) format: 16/12/2018\n",
    "    \n",
    "There are 4 days in between 12/12/2018 and 16/12/18\n"
   ]
  },
  {
   "cell_type": "code",
   "execution_count": 11,
   "metadata": {},
   "outputs": [
    {
     "name": "stdout",
     "output_type": "stream",
     "text": [
      "Enter start date in that format dd/mmm/yyyy:12/12/2018\n"
     ]
    }
   ],
   "source": [
    "from datetime import datetime\n",
    "first = input('Enter start date in that format dd/mmm/yyyy:')"
   ]
  },
  {
   "cell_type": "code",
   "execution_count": 12,
   "metadata": {},
   "outputs": [
    {
     "name": "stdout",
     "output_type": "stream",
     "text": [
      "Enter end date in that format dd/mmm/yyyy:16/12/2018\n"
     ]
    }
   ],
   "source": [
    "second = input('Enter end date in that format dd/mmm/yyyy:')\n"
   ]
  },
  {
   "cell_type": "code",
   "execution_count": 13,
   "metadata": {},
   "outputs": [
    {
     "name": "stdout",
     "output_type": "stream",
     "text": [
      "4 days\n"
     ]
    }
   ],
   "source": [
    "d_format = \"%d/%m/%Y\"\n",
    "a = datetime.strptime(first, d_format)\n",
    "b = datetime.strptime(second, d_format)\n",
    "print((b-a).days, \"days\")"
   ]
  },
  {
   "cell_type": "markdown",
   "metadata": {},
   "source": [
    "# 5.\tCalculate Volume of a sphere\n",
    "Write a Python program to get the volume of a sphere, please take the radius as input from user\n",
    "     \n",
    "Program Console Output:\n",
    "    \n",
    "Enter Radius of Sphere: 1\n",
    "    \n",
    "Volume of the Sphere with Radius 1 is 4.18\n"
   ]
  },
  {
   "cell_type": "code",
   "execution_count": 16,
   "metadata": {},
   "outputs": [
    {
     "name": "stdout",
     "output_type": "stream",
     "text": [
      "Enter Radius of Sphere: 1\n"
     ]
    }
   ],
   "source": [
    "radius=int(input(\"Enter Radius of Sphere: \"))"
   ]
  },
  {
   "cell_type": "code",
   "execution_count": 17,
   "metadata": {},
   "outputs": [],
   "source": [
    "v=round(4/3*(pi*math.pow(radius,3)),2)"
   ]
  },
  {
   "cell_type": "code",
   "execution_count": 18,
   "metadata": {},
   "outputs": [
    {
     "name": "stdout",
     "output_type": "stream",
     "text": [
      "Volume of the Sphere with Radius 1 is 4.19\n"
     ]
    }
   ],
   "source": [
    "print(f\"Volume of the Sphere with Radius {radius} is {v}\")"
   ]
  },
  {
   "cell_type": "markdown",
   "metadata": {},
   "source": [
    "\n",
    "# 6.\tCopy string n times\n",
    "Write a Python program to get a string which is n (non-negative integer) copies of a given string. \n",
    "\n",
    "Program Console Output:\n",
    "    \n",
    "Enter String: Hi\n",
    "    \n",
    "How many copies of String you need: 4\n",
    "    \n",
    "4 Copies of Hi are HiHiHiHi\n"
   ]
  },
  {
   "cell_type": "code",
   "execution_count": 24,
   "metadata": {},
   "outputs": [
    {
     "name": "stdout",
     "output_type": "stream",
     "text": [
      "Enter string:Hi\n"
     ]
    }
   ],
   "source": [
    "string=input(\"Enter string:\")"
   ]
  },
  {
   "cell_type": "code",
   "execution_count": 25,
   "metadata": {},
   "outputs": [
    {
     "name": "stdout",
     "output_type": "stream",
     "text": [
      "How many copies of String you need:4\n"
     ]
    }
   ],
   "source": [
    "copy=int(input(\"How many copies of String you need:\"))"
   ]
  },
  {
   "cell_type": "code",
   "execution_count": 26,
   "metadata": {},
   "outputs": [],
   "source": [
    "out=string*copy"
   ]
  },
  {
   "cell_type": "code",
   "execution_count": 31,
   "metadata": {},
   "outputs": [
    {
     "name": "stdout",
     "output_type": "stream",
     "text": [
      "4 Copies of Hi are HiHiHiHi\n"
     ]
    }
   ],
   "source": [
    "print(f\"{copy} Copies of \" + string +\" are \"+out)"
   ]
  },
  {
   "cell_type": "markdown",
   "metadata": {},
   "source": [
    "# 7.\tCheck if number is Even or Odd\n",
    "Write a Python program to find whether a given number (accept from the user) is even or odd, print out an appropriate message to the user\n",
    "\n",
    "Program Console Output 1:\n",
    "    \n",
    "Enter Number: 4\n",
    "    \n",
    "4 is Even\n",
    "     \n",
    "Program Console Output 2:\n",
    "    \n",
    "Enter Number: 9\n",
    "    \n",
    "9 is Odd\n"
   ]
  },
  {
   "cell_type": "code",
   "execution_count": 32,
   "metadata": {},
   "outputs": [
    {
     "name": "stdout",
     "output_type": "stream",
     "text": [
      "Enter Number: 4\n"
     ]
    }
   ],
   "source": [
    "in_value=int(input(\"Enter Number: \"))"
   ]
  },
  {
   "cell_type": "code",
   "execution_count": 33,
   "metadata": {},
   "outputs": [
    {
     "name": "stdout",
     "output_type": "stream",
     "text": [
      "4 is Even\n"
     ]
    }
   ],
   "source": [
    "\n",
    "if in_value%2==0 :\n",
    "    print(f\"{in_value} is Even\")\n",
    "else:\n",
    "    print(f\"{in_value} is Odd\")"
   ]
  },
  {
   "cell_type": "code",
   "execution_count": 34,
   "metadata": {},
   "outputs": [
    {
     "name": "stdout",
     "output_type": "stream",
     "text": [
      "Enter Number: 9\n"
     ]
    }
   ],
   "source": [
    "\n",
    "in_value=int(input(\"Enter Number: \"))"
   ]
  },
  {
   "cell_type": "code",
   "execution_count": 35,
   "metadata": {},
   "outputs": [
    {
     "name": "stdout",
     "output_type": "stream",
     "text": [
      "9 is Odd\n"
     ]
    }
   ],
   "source": [
    "if in_value%2==0 :\n",
    "    print(f\"{in_value} is Even\")\n",
    "else:\n",
    "    print(f\"{in_value} is Odd\")"
   ]
  },
  {
   "cell_type": "markdown",
   "metadata": {},
   "source": [
    "# 8.\tVowel Tester\n",
    "Write a Python program to test whether a passed letter is a vowel or not\n",
    "\n",
    "Program Console Output 1:\n",
    "    \n",
    "Enter a character: A\n",
    "    \n",
    "Letter A is Vowel\n",
    "\n",
    "Program Console Output 2:\n",
    "    \n",
    "Enter a character: e\n",
    "    \n",
    "Letter e is Vowel\n",
    "\n",
    "Program Console Output 2:\n",
    "    \n",
    "Enter a character: N\n",
    "    \n",
    "Letter N is not Vowel\n"
   ]
  },
  {
   "cell_type": "code",
   "execution_count": 37,
   "metadata": {},
   "outputs": [
    {
     "name": "stdout",
     "output_type": "stream",
     "text": [
      "Enter a Character: a\n",
      "Letter a is a vowel\n"
     ]
    }
   ],
   "source": [
    "\n",
    "volwel=['a','e','i','o','u']\n",
    "in_letter=input(\"Enter a Character: \")\n",
    "if in_letter.lower() in volwel:\n",
    "    print(\"Letter \"+in_letter+ \" is a vowel\")\n",
    "else:\n",
    "    print(\"Letter \"+in_letter+ \" is not vowel\")"
   ]
  },
  {
   "cell_type": "code",
   "execution_count": 38,
   "metadata": {},
   "outputs": [
    {
     "name": "stdout",
     "output_type": "stream",
     "text": [
      "Enter a Character: e\n",
      "Letter e is a vowel\n"
     ]
    }
   ],
   "source": [
    "volwel=['a','e','i','o','u']\n",
    "in_letter=input(\"Enter a Character: \")\n",
    "if in_letter.lower() in volwel:\n",
    "    print(\"Letter \"+in_letter+ \" is a vowel\")\n",
    "else:\n",
    "    print(\"Letter \"+in_letter+ \" is not vowel\")"
   ]
  },
  {
   "cell_type": "code",
   "execution_count": 39,
   "metadata": {},
   "outputs": [
    {
     "name": "stdout",
     "output_type": "stream",
     "text": [
      "Enter a Character: n\n",
      "Letter n is not vowel\n"
     ]
    }
   ],
   "source": [
    "\n",
    "volwel=['a','e','i','o','u']\n",
    "in_letter=input(\"Enter a Character: \")\n",
    "if in_letter.lower() in volwel:\n",
    "    print(\"Letter \"+in_letter+ \" is a vowel\")\n",
    "else:\n",
    "    print(\"Letter \"+in_letter+ \" is not vowel\")"
   ]
  },
  {
   "cell_type": "markdown",
   "metadata": {},
   "source": [
    "# 9.\tTriangle area\n",
    "Write a Python program that will accept the base and height of a triangle and compute the area\n",
    "\n",
    "Program Console Sample 1:\n",
    "    \n",
    "Enter magnitude of Triangle base: 4\n",
    "    \n",
    "Enter Magnitude of Triangle Height: 4\n",
    "    \n",
    "Area of a Triangle with Height 4 and Base 4 is 8\n"
   ]
  },
  {
   "cell_type": "code",
   "execution_count": 40,
   "metadata": {},
   "outputs": [
    {
     "name": "stdout",
     "output_type": "stream",
     "text": [
      "Enter height of the triangle4\n",
      "Enter base of the triangle4\n",
      "The Area of Triangle is 8.0\n"
     ]
    }
   ],
   "source": [
    "h = float(input(\"Enter height of the triangle\"))\n",
    "b = float(input(\"Enter base of the triangle\"))\n",
    "area =1/2*(b*h)\n",
    "print(\"The Area of Triangle is\",area)"
   ]
  },
  {
   "cell_type": "markdown",
   "metadata": {},
   "source": [
    "# 10.\tCalculate Interest\n",
    "Write a Python program to compute the future value of a specified principal amount, rate of interest, and a number of years\n",
    "\n",
    "Program Console Sample 1:\n",
    "\n",
    "Please enter principal amount: 10000\n",
    "\n",
    "Please Enter Rate of interest in %: 0.1\n",
    "\n",
    "Enter number of years for investment: 5\n",
    "\n",
    "After 5 years your principal amount 10000 over an interest rate of 0.1 % will be 16105.1\n"
   ]
  },
  {
   "cell_type": "code",
   "execution_count": 41,
   "metadata": {},
   "outputs": [
    {
     "name": "stdout",
     "output_type": "stream",
     "text": [
      "Please enter principal amount: 10000\n",
      "Please Enter Rate of interest in %: 0.1\n",
      "Enter number of years for investment: 5\n",
      "After 5 years your principal amount 10000 over an interest rate of 0.1 % will be 16105.1\n"
     ]
    }
   ],
   "source": [
    "import math\n",
    "amount = int(input(\"Please enter principal amount: \"))\n",
    "interest = float(input(\"Please Enter Rate of interest in %: \"))\n",
    "year = int(input(\"Enter number of years for investment: \"))\n",
    "A  = amount*(math.pow((1+interest),year))\n",
    "print(\"After\",year,\"years your principal amount\",amount,\"over an interest rate of\",interest,\"%\",\"will be %.1f\"%A)"
   ]
  },
  {
   "cell_type": "markdown",
   "metadata": {},
   "source": [
    "# 11.\tEuclidean distance\n",
    "Write a Python program to compute the distance between the points (x1, y1) and (x2, y2).\n",
    "\n",
    "Program Console Sample 1:\n",
    "    \n",
    "Enter Co-ordinate for x1: 2\n",
    "\n",
    "Enter Co-ordinate for x2: 4\n",
    "    \n",
    "Enter Co-ordinate for y1: 4\n",
    "    \n",
    "Enter Co-ordinate for y2: 4\n",
    "    \n",
    "Distance between points (2, 4) and (4, 4) is 2\n"
   ]
  },
  {
   "cell_type": "code",
   "execution_count": 43,
   "metadata": {},
   "outputs": [
    {
     "name": "stdout",
     "output_type": "stream",
     "text": [
      "Enter Co-ordinate for x1: 2\n",
      "Enter Co-ordinate for x2: 4\n",
      "Enter Co-ordinate for y1: 4\n",
      "Enter Co-ordinate for y2: 4\n",
      "Distance between points ( 2 , 4 ) and ( 4 , 4 ) is 2.0\n"
     ]
    }
   ],
   "source": [
    "x1 = int(input(\"Enter Co-ordinate for x1: \"))\n",
    "x2 = int(input(\"Enter Co-ordinate for x2: \"))\n",
    "y1 = int(input(\"Enter Co-ordinate for y1: \"))\n",
    "y2 = int(input(\"Enter Co-ordinate for y2: \"))\n",
    "result = ((x2-x1)**2-(y2-y1)**2)**1/2\n",
    "print(\"Distance between points (\",x1,\",\",x2,\") and (\",y1,\",\",y2,\") is\",result)"
   ]
  },
  {
   "cell_type": "markdown",
   "metadata": {},
   "source": [
    "# 12.\tFeet to Centimeter Converter\n",
    "Write a Python program to convert height in feet to centimetres.\n",
    "\n",
    "Program Console Sample 1:\n",
    "\n",
    "Enter Height in Feet: 5\n",
    "\n",
    "There are 152.4 Cm in 5 ft\n"
   ]
  },
  {
   "cell_type": "code",
   "execution_count": 44,
   "metadata": {},
   "outputs": [
    {
     "name": "stdout",
     "output_type": "stream",
     "text": [
      "Enter Height in Feet: 5\n",
      "There are 152.4 Cm in 5 ft\n"
     ]
    }
   ],
   "source": [
    "feet = int(input(\"Enter Height in Feet: \"))\n",
    "cm = (feet*30.48)\n",
    "print(\"There are\",cm,\"Cm in\",feet,\"ft\")"
   ]
  },
  {
   "cell_type": "markdown",
   "metadata": {},
   "source": [
    "# 13.\tBMI Calculator\n",
    "Write a Python program to calculate body mass index\n",
    "\n",
    "Program Console Sample 1:\n",
    "\n",
    "Enter Height in Cm: 180\n",
    "\n",
    "Enter Weight in Kg: 75\n",
    "\n",
    "Your BMI is 23.15\n",
    "     \n"
   ]
  },
  {
   "cell_type": "code",
   "execution_count": 45,
   "metadata": {},
   "outputs": [
    {
     "name": "stdout",
     "output_type": "stream",
     "text": [
      "Enter Height in Cm: 180\n",
      "Enter Weight in Kg: 75\n",
      "Your BMI is 23.15\n"
     ]
    }
   ],
   "source": [
    "\n",
    "import math\n",
    "height = float(input(\"Enter Height in Cm: \"))\n",
    "weight = float(input(\"Enter Weight in Kg: \"))\n",
    "height = (math.pow(height,2))/(math.pow(100,2))\n",
    "bmi = weight/height\n",
    "print(\"Your BMI is %.2f\"%bmi)"
   ]
  },
  {
   "cell_type": "markdown",
   "metadata": {},
   "source": [
    "# 14.\tSum of n Positive Integers\n",
    "Write a python program to sum of the first n positive integers\n",
    "\n",
    "Program Console Sample 1:\n",
    "\n",
    "Enter value of n: 5\n",
    "\n",
    "Sum of n Positive integers till 5 is 15\n"
   ]
  },
  {
   "cell_type": "code",
   "execution_count": 46,
   "metadata": {},
   "outputs": [
    {
     "name": "stdout",
     "output_type": "stream",
     "text": [
      "Enter value of n: 5\n",
      "Sum of n Positive integers till 5 is 15\n"
     ]
    }
   ],
   "source": [
    "\n",
    "value = int(input(\"Enter value of n: \"))\n",
    "n = value\n",
    "res = 0\n",
    "while value != 0:\n",
    "        res += value\n",
    "        value -=1\n",
    "print(\"Sum of n Positive integers till\",n,\"is\",res)"
   ]
  },
  {
   "cell_type": "markdown",
   "metadata": {},
   "source": [
    "# 15.\tDigits Sum of a Number\n",
    "Write a Python program to calculate the sum of the digits in an integer\n",
    "\n",
    "Program Console Sample 1:\n",
    "\n",
    "Enter a number: 15\n",
    "\n",
    "Sum of 1 + 5 is 6\n",
    "\n",
    "Program Console Sample 2:\n",
    "\n",
    "Enter a number: 1234\n",
    "\n",
    "Sum of 1 + 2 + 3 + 4 is 10\n"
   ]
  },
  {
   "cell_type": "code",
   "execution_count": 47,
   "metadata": {},
   "outputs": [
    {
     "name": "stdout",
     "output_type": "stream",
     "text": [
      "Enter a number:15\n",
      "6\n"
     ]
    }
   ],
   "source": [
    "value = int(input(\"Enter a number:\"))\n",
    "sum = 0\n",
    "n = 0\n",
    "while value > 0:\n",
    "    n = value % 10\n",
    "    sum = sum + n\n",
    "    value = value // 10\n",
    "print(sum)"
   ]
  },
  {
   "cell_type": "code",
   "execution_count": 48,
   "metadata": {},
   "outputs": [
    {
     "name": "stdout",
     "output_type": "stream",
     "text": [
      "Enter a number:1234\n",
      "10\n"
     ]
    }
   ],
   "source": [
    "value = int(input(\"Enter a number:\"))\n",
    "sum = 0\n",
    "n = 0\n",
    "while value > 0:\n",
    "    n = value % 10\n",
    "    sum = sum + n\n",
    "    value = value // 10\n",
    "print(sum)"
   ]
  },
  {
   "cell_type": "markdown",
   "metadata": {},
   "source": [
    "# 16.\tDecimal to Binary Converter\n",
    "Write a Python program to convert an decimal integer to binary\n",
    "\n",
    "Program Console Sample 1:\n",
    "\n",
    "Enter a decimal number: 5\n",
    "\n",
    "Binary Representation of 5 is 101\n",
    "\n",
    "Program Console Sample 2:\n",
    "\n",
    "Enter a decimal number: 32\n",
    "\n",
    "Binary Representation of 32 is 100000‬\n"
   ]
  },
  {
   "cell_type": "code",
   "execution_count": 53,
   "metadata": {},
   "outputs": [
    {
     "name": "stdout",
     "output_type": "stream",
     "text": [
      "Enter a Decimal number: 5\n",
      "Binary Reperesentation of 5 is:  101\n"
     ]
    }
   ],
   "source": [
    "number = int(input(\"Enter a Decimal number: \"))\n",
    "binary = bin(number)\n",
    "print(\"Binary Reperesentation of\",number,\"is: \", binary[2:])"
   ]
  },
  {
   "cell_type": "code",
   "execution_count": 1,
   "metadata": {},
   "outputs": [
    {
     "name": "stdout",
     "output_type": "stream",
     "text": [
      "Enter a Decimal number: 32\n",
      "Binary Reperesentation of 32 is:  100000\n"
     ]
    }
   ],
   "source": [
    "number = int(input(\"Enter a Decimal number: \"))\n",
    "binary = bin(number)\n",
    "print(\"Binary Reperesentation of\",number,\"is: \", binary[2:])"
   ]
  },
  {
   "cell_type": "markdown",
   "metadata": {},
   "source": [
    "# 17.\tBinary to Decimal Converter\n",
    "Write a program to convert binary number to Decimal number\n",
    "\n",
    "Program Console Sample 1:\n",
    "    \n",
    "Enter a Binary number: 1101\n",
    "\n",
    "Decimal Representation of 1101 is 13\n",
    "\n",
    "Program Console Sample 2:\n",
    "    \n",
    "Enter a Binary number: 1001\n",
    "\n",
    "Decimal Representation of 1001 is 9\n"
   ]
  },
  {
   "cell_type": "code",
   "execution_count": 2,
   "metadata": {},
   "outputs": [
    {
     "name": "stdout",
     "output_type": "stream",
     "text": [
      "Enter a Binary number: 1101\n",
      "Decimal Reperesentation of 1101 is:  13\n"
     ]
    }
   ],
   "source": [
    "binary = input(\"Enter a Binary number: \")\n",
    "number = int(binary,2)\n",
    "print(\"Decimal Reperesentation of\", binary,\"is: \", number)"
   ]
  },
  {
   "cell_type": "code",
   "execution_count": 3,
   "metadata": {},
   "outputs": [
    {
     "name": "stdout",
     "output_type": "stream",
     "text": [
      "Enter a Binary number: 1001\n",
      "Decimal Reperesentation of 1001 is:  9\n"
     ]
    }
   ],
   "source": [
    "binary = input(\"Enter a Binary number: \")\n",
    "number = int(binary,2)\n",
    "print(\"Decimal Reperesentation of\", binary,\"is: \", number)"
   ]
  },
  {
   "cell_type": "markdown",
   "metadata": {},
   "source": [
    "# 18.\tVowel and Consonants Counter\n",
    "Input a text and count the occurrences of vowels and consonant\n",
    "\n",
    "Program Console Sample 1:\n",
    "\n",
    "Enter text: QuickBrownFoxJumpsovertheDog\n",
    "\n",
    "Vowels: 9\n",
    "\n",
    "Consonants: 19\n"
   ]
  },
  {
   "cell_type": "code",
   "execution_count": 4,
   "metadata": {},
   "outputs": [
    {
     "name": "stdout",
     "output_type": "stream",
     "text": [
      "Enter Text: QuickBrownFoxJumpsovertheDog\n",
      "Vowels:  9\n",
      "Consonants:  19\n"
     ]
    }
   ],
   "source": [
    "text = input(\"Enter Text: \")\n",
    "result = text.lower()\n",
    "vowel_counter = 0\n",
    "consonant_counter = 0\n",
    "for x in result:\n",
    "    if x == \"a\" or x == \"e\" or x == \"i\" or x == \"o\" or x == \"u\":\n",
    "        vowel_counter += 1\n",
    "    else:\n",
    "        consonant_counter += 1\n",
    "print(\"Vowels: \",vowel_counter)\n",
    "print(\"Consonants: \",consonant_counter)"
   ]
  },
  {
   "cell_type": "markdown",
   "metadata": {},
   "source": [
    "# 19.\tPalindrome tester\n",
    "Write a program to check whether given input is palindrome or not\n",
    "\n",
    "Program Console Sample 1:\n",
    "\n",
    "Enter text: AHA\n",
    "\n",
    "Text AHA is Palindrome\n",
    "\n",
    "Program Console Sample 2:\n",
    "\n",
    "Enter text: Hello\n",
    "\n",
    "Text Hello is not a Palindrome\n"
   ]
  },
  {
   "cell_type": "code",
   "execution_count": 5,
   "metadata": {},
   "outputs": [
    {
     "name": "stdout",
     "output_type": "stream",
     "text": [
      "Enter Text: AHA\n",
      "Text AHA is Palindrome. \n"
     ]
    }
   ],
   "source": [
    "text = input(\"Enter Text: \")\n",
    "if text == text[::-1]:\n",
    "    print(\"Text\",text,\"is Palindrome. \")\n",
    "else:\n",
    "    print(\"Text \",text,\"is Not Palindrome. \")"
   ]
  },
  {
   "cell_type": "code",
   "execution_count": 6,
   "metadata": {},
   "outputs": [
    {
     "name": "stdout",
     "output_type": "stream",
     "text": [
      "Enter Text: Hello\n",
      "Text  Hello is Not Palindrome. \n"
     ]
    }
   ],
   "source": [
    "text = input(\"Enter Text: \")\n",
    "if text == text[::-1]:\n",
    "    print(\"Text\",text,\"is Palindrome. \")\n",
    "else:\n",
    "    print(\"Text \",text,\"is Not Palindrome. \")"
   ]
  },
  {
   "cell_type": "markdown",
   "metadata": {},
   "source": [
    "# 20.\tCount Alphabets, Numbers and Special Characters\n",
    "Write a Python program that accepts a string and calculate the number of digits and letters\n",
    "\n",
    "Program Console Sample 1:\n",
    "\n",
    "Enter text: Python 3.2\n",
    "\n",
    "Numbers = 2\n",
    "\n",
    "Alphabets = 6\n",
    "\n",
    "Special Characters = 1\n",
    "\n",
    "Spaces = 1 \n"
   ]
  },
  {
   "cell_type": "code",
   "execution_count": 7,
   "metadata": {},
   "outputs": [
    {
     "name": "stdout",
     "output_type": "stream",
     "text": [
      "Enter Text: Python 3.2\n",
      "Alphabets:           6\n",
      "Numbers:             2\n",
      "Special Characters:  1\n",
      "Space:               1\n"
     ]
    }
   ],
   "source": [
    "\n",
    "text = input(\"Enter Text: \")\n",
    "alphabet = 0\n",
    "number = 0\n",
    "special_character = 0\n",
    "space = 0\n",
    "for x in text:\n",
    "    if int(ord(x)) >= 65 and int(ord(x)) <= 122:\n",
    "        alphabet += 1\n",
    "    elif int(ord(x)) >= 48 and int(ord(x)) <= 57:\n",
    "        number += 1\n",
    "    elif x == \" \":\n",
    "        space += 1\n",
    "    else:\n",
    "        special_character += 1\n",
    "print(\"Alphabets:          \",alphabet)\n",
    "print(\"Numbers:            \",number)\n",
    "print(\"Special Characters: \",special_character)\n",
    "print(\"Space:              \",space)"
   ]
  },
  {
   "cell_type": "markdown",
   "metadata": {},
   "source": [
    "# 21.\tWrite a Python program to construct the following pattern\n",
    "\n",
    "\n",
    "     \n"
   ]
  },
  {
   "cell_type": "code",
   "execution_count": 9,
   "metadata": {},
   "outputs": [
    {
     "name": "stdout",
     "output_type": "stream",
     "text": [
      "* \r\n",
      "* * \r\n",
      "* * * \r\n",
      "* * * * \r\n",
      "* * * * * \r\n",
      "* * * * \r\n",
      "* * * \r\n",
      "* * \r\n",
      "* \r\n",
      "\r\n"
     ]
    }
   ],
   "source": [
    "number = 5\n",
    "number = int (number)\n",
    "for i in range (0, number):\n",
    "    for j in range(0, i + 1):\n",
    "        print(\"*\", end=' ')\n",
    "    print(\"\\r\")\n",
    "    \n",
    "for i in range (number, 0, -1):\n",
    "    for j in range(0, i -1):\n",
    "        print(\"*\", end=' ')\n",
    "    print(\"\\r\")"
   ]
  },
  {
   "cell_type": "markdown",
   "metadata": {},
   "source": [
    "# 22.\tWrite a Python program to construct the following pattern(2)"
   ]
  },
  {
   "cell_type": "code",
   "execution_count": 10,
   "metadata": {},
   "outputs": [
    {
     "name": "stdout",
     "output_type": "stream",
     "text": [
      "1 \r\n",
      "1 2 \r\n",
      "1 2 3 \r\n",
      "1 2 3 4 \r\n",
      "1 2 3 4 5 \r\n",
      "1 2 3 4 \r\n",
      "1 2 3 \r\n",
      "1 2 \r\n",
      "1 \r\n",
      "\r\n"
     ]
    }
   ],
   "source": [
    "\n",
    "number = 6\n",
    "number = int (number)\n",
    "for i in range (1, number):\n",
    "    for j in range(1, i + 1):\n",
    "        print(j, end=' ')\n",
    "    print(\"\\r\")\n",
    "    \n",
    "for i in range (number, 1, -1):\n",
    "    for j in range(1, i -1):\n",
    "        print(j, end=' ')\n",
    "    print(\"\\r\")"
   ]
  },
  {
   "cell_type": "markdown",
   "metadata": {},
   "source": [
    "# 23.\tWrite a Python program to construct the following pattern(3)"
   ]
  },
  {
   "cell_type": "code",
   "execution_count": 11,
   "metadata": {},
   "outputs": [
    {
     "name": "stdout",
     "output_type": "stream",
     "text": [
      "\n",
      "1\n",
      "22\n",
      "333\n",
      "4444\n",
      "55555\n",
      "666666\n",
      "7777777\n",
      "88888888\n",
      "999999999\n"
     ]
    }
   ],
   "source": [
    "\n",
    "for i in range(10):\n",
    "    for f in range(i):\n",
    "        print(i, end = '')\n",
    "    print(\"\")"
   ]
  },
  {
   "cell_type": "code",
   "execution_count": null,
   "metadata": {},
   "outputs": [],
   "source": []
  }
 ],
 "metadata": {
  "kernelspec": {
   "display_name": "Python 3",
   "language": "python",
   "name": "python3"
  },
  "language_info": {
   "codemirror_mode": {
    "name": "ipython",
    "version": 3
   },
   "file_extension": ".py",
   "mimetype": "text/x-python",
   "name": "python",
   "nbconvert_exporter": "python",
   "pygments_lexer": "ipython3",
   "version": "3.7.3"
  }
 },
 "nbformat": 4,
 "nbformat_minor": 2
}
